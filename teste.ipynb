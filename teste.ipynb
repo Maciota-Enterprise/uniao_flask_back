{
 "cells": [
  {
   "cell_type": "code",
   "execution_count": 1,
   "metadata": {},
   "outputs": [],
   "source": [
    "data = {}\n",
    "\n",
    "data[\"enterprises\"] = [\n",
    "        (\"ABC Company\", \"12345678901234\", \"987654321\", \"abc@example.com\"),\n",
    "        (\"XYZ Corporation\", \"98765432109876\", \"123456789\", \"xyz@example.com\")\n",
    "]\n",
    "\n",
    "data[\"levels\"] = [\n",
    "        (1, \"Interno\"),\n",
    "        (1, \"Médio\"),\n",
    "        (1, \"Avançado\"),\n",
    "        (2,\"Inicial\"),\n",
    "        (2,\"Intermediário\"),\n",
    "        (2,\"Avançado\")\n",
    "]\n",
    "\n",
    "data[\"urls\"] = [\n",
    "        (1, \"https://exemplo.com/nivel1\"),\n",
    "        (2, \"https://exemplo.com/nivel2\"),\n",
    "        (3, \"https://exemplo.com/nivel3\")\n",
    "]\n",
    "\n",
    "data[\"products\"] = [\n",
    "        (1, \"Ferramenta A\"),\n",
    "        (2, \"Software B\")\n",
    "]\n",
    "\n",
    "data[\"users\"] = [\n",
    "        (1, \"João\",  'TradingCo', '12345678901234', '987654321', 'joao123', 'senha123'),\n",
    "        (2, \"Maria\", 'TechBiz', '98765432109876', '123456789', 'maria_tech', 'segura123')\n",
    "]\n",
    "\n",
    "data[\"notifications\"] = [\n",
    "        (1, \"Primeira notificação para usuário 1\"),  # Substitua os IDs 1 e 1 pelos IDs reais dos usuários\n",
    "        (2, \"Segunda notificação para usuário 2\"),  # Substitua os IDs 2 e 2 pelos IDs reais dos usuários\n",
    "]\n",
    "\n",
    "data[\"farmer_data\"] = [\n",
    "        (1, '987654321', 'jose@example.com'),  # Substitua o ID 1 pelo ID real do usuário associado\n",
    "        (2, '999999999', 'ana@example.com'),  # Substitua o ID 2 pelo ID real do usuário associado\n",
    "        ]\n",
    "\n",
    "\n",
    "data[\"cities\"] = [\n",
    "        (\"São Paulo\", \"SP\"),\n",
    "        (\"Rio de Janeiro\", \"RJ\")\n",
    "]\n",
    "\n",
    "data[\"farm\"] = [\n",
    "        (1, 1, 'Sítio do José', 100.5),  #\n",
    "        (2, 2, 'Chácara da Ana', 75.2),  # Substitua o ID 2 pelo ID real do agricultor e da cidade associados\n",
    "        ]\n",
    "\n",
    "\n",
    "data[\"observations\"] = [\n",
    "        (1, 1,\"Muito bonito!\"),\n",
    "        (2, 2, \"Legal!\")\n",
    "]\n",
    "\n",
    "data[\"visits\"] = [\n",
    "        (1, 1, '2023-01-15'),\n",
    "        (2, 2, '2023-02-20')\n",
    "]\n",
    "\n",
    "data[\"obs_visits\"] = [\n",
    "        (1, 1, \"Fazenda muito bonita!\"),\n",
    "        (2, 2, \"Conheci os campos!\")\n",
    "]\n",
    "\n",
    "data[\"media\"] = [\n",
    "        (1, 1,'Foto', 'https://exemplo.com/foto1', -23.5505, -46.6333),\n",
    "        (2, 2,'Vídeo', 'https://exemplo.com/video1', -22.9068, -43.1729)\n",
    "]\n"
   ]
  },
  {
   "cell_type": "code",
   "execution_count": 11,
   "metadata": {},
   "outputs": [
    {
     "name": "stdout",
     "output_type": "stream",
     "text": [
      "scrypt:32768:8:1$49W\n"
     ]
    }
   ],
   "source": [
    "from werkzeug.security import generate_password_hash\n",
    "\n",
    "print(generate_password_hash(\"P1ain-text-user-passw@rd\", )[:20])"
   ]
  }
 ],
 "metadata": {
  "kernelspec": {
   "display_name": ".venv",
   "language": "python",
   "name": "python3"
  },
  "language_info": {
   "codemirror_mode": {
    "name": "ipython",
    "version": 3
   },
   "file_extension": ".py",
   "mimetype": "text/x-python",
   "name": "python",
   "nbconvert_exporter": "python",
   "pygments_lexer": "ipython3",
   "version": "3.11.6"
  }
 },
 "nbformat": 4,
 "nbformat_minor": 2
}
